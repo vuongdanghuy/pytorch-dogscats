{
 "cells": [
  {
   "cell_type": "code",
   "execution_count": 1,
   "id": "romantic-recruitment",
   "metadata": {},
   "outputs": [],
   "source": [
    "import boto3\n",
    "import sagemaker"
   ]
  },
  {
   "cell_type": "code",
   "execution_count": 2,
   "id": "commercial-israeli",
   "metadata": {},
   "outputs": [
    {
     "name": "stdout",
     "output_type": "stream",
     "text": [
      "1.17.39\n",
      "2.32.0\n"
     ]
    }
   ],
   "source": [
    "print(boto3.__version__)\n",
    "print(sagemaker.__version__)"
   ]
  },
  {
   "cell_type": "code",
   "execution_count": 3,
   "id": "multiple-edwards",
   "metadata": {},
   "outputs": [],
   "source": [
    "sm = boto3.client('sagemaker')"
   ]
  },
  {
   "cell_type": "code",
   "execution_count": 4,
   "id": "copyrighted-professor",
   "metadata": {},
   "outputs": [
    {
     "name": "stdout",
     "output_type": "stream",
     "text": [
      "sagemaker-us-east-2-805291263703\n",
      "arn:aws:iam::805291263703:role/service-role/AmazonSageMaker-ExecutionRole-20200826T145400\n"
     ]
    }
   ],
   "source": [
    "sess = sagemaker.Session()\n",
    "bucket = sess.default_bucket()\n",
    "role = sagemaker.get_execution_role()\n",
    "print(bucket)\n",
    "print(role)"
   ]
  },
  {
   "cell_type": "code",
   "execution_count": 5,
   "id": "brilliant-marshall",
   "metadata": {},
   "outputs": [],
   "source": [
    "prefix = 'pytorch-dogscats'"
   ]
  },
  {
   "cell_type": "code",
   "execution_count": 6,
   "id": "developed-mumbai",
   "metadata": {},
   "outputs": [
    {
     "name": "stdout",
     "output_type": "stream",
     "text": [
      "2021-03-30 07:57:26   87502442 dogscats.tar.gz\n",
      "2021-03-30 08:32:00   87502442 model.tar.gz\n"
     ]
    }
   ],
   "source": [
    "%%sh -s \"$bucket\" \"$prefix\"\n",
    "aws s3 ls s3://$1/$2/"
   ]
  },
  {
   "cell_type": "code",
   "execution_count": 7,
   "id": "emotional-windsor",
   "metadata": {},
   "outputs": [
    {
     "name": "stdout",
     "output_type": "stream",
     "text": [
      "pytorch-dogscats-2021-03-31-02-15-43\n"
     ]
    }
   ],
   "source": [
    "import time\n",
    "\n",
    "model_name = prefix+'-'+time.strftime(\"%Y-%m-%d-%H-%M-%S\", time.gmtime())\n",
    "print(model_name)"
   ]
  },
  {
   "cell_type": "code",
   "execution_count": 8,
   "id": "novel-immune",
   "metadata": {},
   "outputs": [
    {
     "name": "stdout",
     "output_type": "stream",
     "text": [
      "{'ModelArn': 'arn:aws:sagemaker:us-east-2:805291263703:model/pytorch-dogscats-2021-03-31-02-15-43', 'ResponseMetadata': {'RequestId': '4639a7e3-9edc-40c1-a0e1-5e09cad7ce05', 'HTTPStatusCode': 200, 'HTTPHeaders': {'x-amzn-requestid': '4639a7e3-9edc-40c1-a0e1-5e09cad7ce05', 'content-type': 'application/x-amz-json-1.1', 'content-length': '98', 'date': 'Wed, 31 Mar 2021 02:15:53 GMT'}, 'RetryAttempts': 0}}\n"
     ]
    }
   ],
   "source": [
    "response = sm.create_model(\n",
    "    ModelName=model_name,\n",
    "    ExecutionRoleArn=role,\n",
    "    Containers=[\n",
    "        {\n",
    "            'Image': '763104351884.dkr.ecr.us-east-2.amazonaws.com/pytorch-inference:1.5-cpu-py3',\n",
    "            'ModelDataUrl': 's3://{}/{}/dogscats.tar.gz'.format(bucket, prefix),\n",
    "            'Mode': 'SingleModel',\n",
    "            'Environment': {\n",
    "                'SAGEMAKER_PROGRAM': 'inference.py',\n",
    "                'SAGEMAKER_SUBMIT_DIRECTORY': '/opt/ml/model/code',\n",
    "                'SAGEMAKER_CONTAINER_LOG_LEVEL': '20',\n",
    "                'SAGEMAKER_REGION': 'us-east-2',\n",
    "                'MMS_DEFAULT_RESPONSE_TIMEOUT': '500'\n",
    "            }\n",
    "        }\n",
    "    ]\n",
    ")\n",
    "print(response)"
   ]
  },
  {
   "cell_type": "code",
   "execution_count": 9,
   "id": "reliable-hydrogen",
   "metadata": {},
   "outputs": [
    {
     "name": "stdout",
     "output_type": "stream",
     "text": [
      "pytorch-dogscats-epc2021-03-31-02-15-57\n"
     ]
    }
   ],
   "source": [
    "epc_name = prefix+'-epc'+time.strftime(\"%Y-%m-%d-%H-%M-%S\", time.gmtime())\n",
    "print(epc_name)"
   ]
  },
  {
   "cell_type": "code",
   "execution_count": 10,
   "id": "comparative-philippines",
   "metadata": {},
   "outputs": [
    {
     "name": "stdout",
     "output_type": "stream",
     "text": [
      "{'EndpointConfigArn': 'arn:aws:sagemaker:us-east-2:805291263703:endpoint-config/pytorch-dogscats-epc2021-03-31-02-15-57', 'ResponseMetadata': {'RequestId': 'ecf9b44b-ad0d-4726-8aeb-0ac48ef08d62', 'HTTPStatusCode': 200, 'HTTPHeaders': {'x-amzn-requestid': 'ecf9b44b-ad0d-4726-8aeb-0ac48ef08d62', 'content-type': 'application/x-amz-json-1.1', 'content-length': '120', 'date': 'Wed, 31 Mar 2021 02:16:50 GMT'}, 'RetryAttempts': 0}}\n"
     ]
    }
   ],
   "source": [
    "response = sm.create_endpoint_config(\n",
    "    EndpointConfigName=epc_name,\n",
    "    ProductionVariants=[\n",
    "        {\n",
    "            'VariantName': 'variant-1',\n",
    "            'ModelName': model_name,\n",
    "            'InitialInstanceCount': 1,\n",
    "            'InstanceType': 'ml.m5.large',\n",
    "            'InitialVariantWeight': 1,\n",
    "            'AcceleratorType': 'ml.eia1.medium',\n",
    "        }\n",
    "    ]\n",
    ")\n",
    "print(response)"
   ]
  },
  {
   "cell_type": "code",
   "execution_count": 11,
   "id": "classified-display",
   "metadata": {},
   "outputs": [
    {
     "name": "stdout",
     "output_type": "stream",
     "text": [
      "pytorch-dogscats-ep2021-03-31-02-16-54\n"
     ]
    }
   ],
   "source": [
    "ep_name=prefix+'-ep'+time.strftime(\"%Y-%m-%d-%H-%M-%S\", time.gmtime())\n",
    "print(ep_name)"
   ]
  },
  {
   "cell_type": "code",
   "execution_count": 12,
   "id": "satisfied-poverty",
   "metadata": {},
   "outputs": [
    {
     "ename": "ResourceLimitExceeded",
     "evalue": "An error occurred (ResourceLimitExceeded) when calling the CreateEndpoint operation: The account-level service limit 'ml.eia1.medium for endpoint usage' is 0 Accelerators, with current utilization of 0 Accelerators and a request delta of 1 Accelerators. Please contact AWS support to request an increase for this limit.",
     "output_type": "error",
     "traceback": [
      "\u001b[0;31m---------------------------------------------------------------------------\u001b[0m",
      "\u001b[0;31mResourceLimitExceeded\u001b[0m                     Traceback (most recent call last)",
      "\u001b[0;32m<ipython-input-12-e5f6f714c266>\u001b[0m in \u001b[0;36m<module>\u001b[0;34m\u001b[0m\n\u001b[1;32m      1\u001b[0m response=sm.create_endpoint(\n\u001b[1;32m      2\u001b[0m     \u001b[0mEndpointName\u001b[0m\u001b[0;34m=\u001b[0m\u001b[0mep_name\u001b[0m\u001b[0;34m,\u001b[0m\u001b[0;34m\u001b[0m\u001b[0;34m\u001b[0m\u001b[0m\n\u001b[0;32m----> 3\u001b[0;31m     \u001b[0mEndpointConfigName\u001b[0m\u001b[0;34m=\u001b[0m\u001b[0mepc_name\u001b[0m\u001b[0;34m\u001b[0m\u001b[0;34m\u001b[0m\u001b[0m\n\u001b[0m\u001b[1;32m      4\u001b[0m )\n\u001b[1;32m      5\u001b[0m \u001b[0mprint\u001b[0m\u001b[0;34m(\u001b[0m\u001b[0mresponse\u001b[0m\u001b[0;34m)\u001b[0m\u001b[0;34m\u001b[0m\u001b[0;34m\u001b[0m\u001b[0m\n",
      "\u001b[0;32m~/anaconda3/envs/pytorch_p36/lib/python3.6/site-packages/botocore/client.py\u001b[0m in \u001b[0;36m_api_call\u001b[0;34m(self, *args, **kwargs)\u001b[0m\n\u001b[1;32m    355\u001b[0m                     \"%s() only accepts keyword arguments.\" % py_operation_name)\n\u001b[1;32m    356\u001b[0m             \u001b[0;31m# The \"self\" in this scope is referring to the BaseClient.\u001b[0m\u001b[0;34m\u001b[0m\u001b[0;34m\u001b[0m\u001b[0;34m\u001b[0m\u001b[0m\n\u001b[0;32m--> 357\u001b[0;31m             \u001b[0;32mreturn\u001b[0m \u001b[0mself\u001b[0m\u001b[0;34m.\u001b[0m\u001b[0m_make_api_call\u001b[0m\u001b[0;34m(\u001b[0m\u001b[0moperation_name\u001b[0m\u001b[0;34m,\u001b[0m \u001b[0mkwargs\u001b[0m\u001b[0;34m)\u001b[0m\u001b[0;34m\u001b[0m\u001b[0;34m\u001b[0m\u001b[0m\n\u001b[0m\u001b[1;32m    358\u001b[0m \u001b[0;34m\u001b[0m\u001b[0m\n\u001b[1;32m    359\u001b[0m         \u001b[0m_api_call\u001b[0m\u001b[0;34m.\u001b[0m\u001b[0m__name__\u001b[0m \u001b[0;34m=\u001b[0m \u001b[0mstr\u001b[0m\u001b[0;34m(\u001b[0m\u001b[0mpy_operation_name\u001b[0m\u001b[0;34m)\u001b[0m\u001b[0;34m\u001b[0m\u001b[0;34m\u001b[0m\u001b[0m\n",
      "\u001b[0;32m~/anaconda3/envs/pytorch_p36/lib/python3.6/site-packages/botocore/client.py\u001b[0m in \u001b[0;36m_make_api_call\u001b[0;34m(self, operation_name, api_params)\u001b[0m\n\u001b[1;32m    674\u001b[0m             \u001b[0merror_code\u001b[0m \u001b[0;34m=\u001b[0m \u001b[0mparsed_response\u001b[0m\u001b[0;34m.\u001b[0m\u001b[0mget\u001b[0m\u001b[0;34m(\u001b[0m\u001b[0;34m\"Error\"\u001b[0m\u001b[0;34m,\u001b[0m \u001b[0;34m{\u001b[0m\u001b[0;34m}\u001b[0m\u001b[0;34m)\u001b[0m\u001b[0;34m.\u001b[0m\u001b[0mget\u001b[0m\u001b[0;34m(\u001b[0m\u001b[0;34m\"Code\"\u001b[0m\u001b[0;34m)\u001b[0m\u001b[0;34m\u001b[0m\u001b[0;34m\u001b[0m\u001b[0m\n\u001b[1;32m    675\u001b[0m             \u001b[0merror_class\u001b[0m \u001b[0;34m=\u001b[0m \u001b[0mself\u001b[0m\u001b[0;34m.\u001b[0m\u001b[0mexceptions\u001b[0m\u001b[0;34m.\u001b[0m\u001b[0mfrom_code\u001b[0m\u001b[0;34m(\u001b[0m\u001b[0merror_code\u001b[0m\u001b[0;34m)\u001b[0m\u001b[0;34m\u001b[0m\u001b[0;34m\u001b[0m\u001b[0m\n\u001b[0;32m--> 676\u001b[0;31m             \u001b[0;32mraise\u001b[0m \u001b[0merror_class\u001b[0m\u001b[0;34m(\u001b[0m\u001b[0mparsed_response\u001b[0m\u001b[0;34m,\u001b[0m \u001b[0moperation_name\u001b[0m\u001b[0;34m)\u001b[0m\u001b[0;34m\u001b[0m\u001b[0;34m\u001b[0m\u001b[0m\n\u001b[0m\u001b[1;32m    677\u001b[0m         \u001b[0;32melse\u001b[0m\u001b[0;34m:\u001b[0m\u001b[0;34m\u001b[0m\u001b[0;34m\u001b[0m\u001b[0m\n\u001b[1;32m    678\u001b[0m             \u001b[0;32mreturn\u001b[0m \u001b[0mparsed_response\u001b[0m\u001b[0;34m\u001b[0m\u001b[0;34m\u001b[0m\u001b[0m\n",
      "\u001b[0;31mResourceLimitExceeded\u001b[0m: An error occurred (ResourceLimitExceeded) when calling the CreateEndpoint operation: The account-level service limit 'ml.eia1.medium for endpoint usage' is 0 Accelerators, with current utilization of 0 Accelerators and a request delta of 1 Accelerators. Please contact AWS support to request an increase for this limit."
     ]
    }
   ],
   "source": [
    "response=sm.create_endpoint(\n",
    "    EndpointName=ep_name,\n",
    "    EndpointConfigName=epc_name\n",
    ")\n",
    "print(response)"
   ]
  },
  {
   "cell_type": "code",
   "execution_count": 13,
   "id": "enclosed-slope",
   "metadata": {},
   "outputs": [
    {
     "data": {
      "text/plain": [
       "{'EndpointName': 'pytorch-dogscats-ep2021-03-30-04-56-24',\n",
       " 'EndpointArn': 'arn:aws:sagemaker:us-east-2:805291263703:endpoint/pytorch-dogscats-ep2021-03-30-04-56-24',\n",
       " 'EndpointConfigName': 'pytorch-dogscats-epc2021-03-30-04-56-21',\n",
       " 'EndpointStatus': 'Creating',\n",
       " 'CreationTime': datetime.datetime(2021, 3, 30, 4, 56, 25, 855000, tzinfo=tzlocal()),\n",
       " 'LastModifiedTime': datetime.datetime(2021, 3, 30, 4, 56, 25, 855000, tzinfo=tzlocal()),\n",
       " 'ResponseMetadata': {'RequestId': '24306866-85cd-4e16-954c-a120fa94374d',\n",
       "  'HTTPStatusCode': 200,\n",
       "  'HTTPHeaders': {'x-amzn-requestid': '24306866-85cd-4e16-954c-a120fa94374d',\n",
       "   'content-type': 'application/x-amz-json-1.1',\n",
       "   'content-length': '321',\n",
       "   'date': 'Tue, 30 Mar 2021 04:56:27 GMT'},\n",
       "  'RetryAttempts': 0}}"
      ]
     },
     "execution_count": 13,
     "metadata": {},
     "output_type": "execute_result"
    }
   ],
   "source": [
    "sm.describe_endpoint(EndpointName=ep_name)"
   ]
  },
  {
   "cell_type": "code",
   "execution_count": 14,
   "id": "successful-singapore",
   "metadata": {},
   "outputs": [],
   "source": [
    "waiter = sm.get_waiter('endpoint_in_service')\n",
    "waiter.wait(EndpointName=ep_name)"
   ]
  },
  {
   "cell_type": "markdown",
   "id": "collect-serve",
   "metadata": {},
   "source": [
    "# Get model inference"
   ]
  },
  {
   "cell_type": "code",
   "execution_count": 42,
   "id": "independent-target",
   "metadata": {},
   "outputs": [],
   "source": [
    "import cv2\n",
    "import os\n",
    "import numpy as np\n",
    "from io import BytesIO\n",
    "import torch"
   ]
  },
  {
   "cell_type": "code",
   "execution_count": 29,
   "id": "outer-violation",
   "metadata": {},
   "outputs": [],
   "source": [
    "TEST_DIR = './test1'"
   ]
  },
  {
   "cell_type": "code",
   "execution_count": 30,
   "id": "metropolitan-vision",
   "metadata": {},
   "outputs": [],
   "source": [
    "test_imgs = os.listdir(TEST_DIR)"
   ]
  },
  {
   "cell_type": "code",
   "execution_count": 60,
   "id": "outdoor-portfolio",
   "metadata": {},
   "outputs": [],
   "source": [
    "smrt = boto3.client('runtime.sagemaker')"
   ]
  },
  {
   "cell_type": "code",
   "execution_count": 86,
   "id": "competitive-marshall",
   "metadata": {},
   "outputs": [],
   "source": [
    "for i in range(1000):\n",
    "    im = cv2.imread(os.path.join(TEST_DIR, test_imgs[i]))\n",
    "    im = cv2.cvtColor(im, cv2.COLOR_BGR2RGB)\n",
    "    im = cv2.resize(im, (224,224))\n",
    "    tensor_x = np.expand_dims(im, axis=0)\n",
    "    tensor_x = tensor_x.transpose((0,3,1,2))\n",
    "    buffer = BytesIO()\n",
    "    np.save(buffer, tensor_x)\n",
    "    \n",
    "    response = smrt.invoke_endpoint(\n",
    "        EndpointName=ep_name,\n",
    "        Body=buffer.getvalue(),\n",
    "        ContentType='application/x-npy'\n",
    "    )\n",
    "\n",
    "#     print(response['Body'].read())"
   ]
  },
  {
   "cell_type": "code",
   "execution_count": 59,
   "id": "serious-regular",
   "metadata": {},
   "outputs": [],
   "source": []
  },
  {
   "cell_type": "markdown",
   "id": "explicit-prototype",
   "metadata": {},
   "source": [
    "# Delete endpoint, endpoint configuration and model"
   ]
  },
  {
   "cell_type": "code",
   "execution_count": 15,
   "id": "primary-boundary",
   "metadata": {},
   "outputs": [
    {
     "data": {
      "text/plain": [
       "{'ResponseMetadata': {'RequestId': 'b608a610-167c-4348-a632-be6a8fb66de5',\n",
       "  'HTTPStatusCode': 200,\n",
       "  'HTTPHeaders': {'x-amzn-requestid': 'b608a610-167c-4348-a632-be6a8fb66de5',\n",
       "   'content-type': 'application/x-amz-json-1.1',\n",
       "   'content-length': '0',\n",
       "   'date': 'Tue, 30 Mar 2021 05:06:15 GMT'},\n",
       "  'RetryAttempts': 0}}"
      ]
     },
     "execution_count": 15,
     "metadata": {},
     "output_type": "execute_result"
    }
   ],
   "source": [
    "sm.delete_endpoint(EndpointName=ep_name)"
   ]
  },
  {
   "cell_type": "code",
   "execution_count": 16,
   "id": "brilliant-leader",
   "metadata": {},
   "outputs": [
    {
     "data": {
      "text/plain": [
       "{'ResponseMetadata': {'RequestId': 'fcfbcb9e-694f-4711-9c50-e26e013b64d7',\n",
       "  'HTTPStatusCode': 200,\n",
       "  'HTTPHeaders': {'x-amzn-requestid': 'fcfbcb9e-694f-4711-9c50-e26e013b64d7',\n",
       "   'content-type': 'application/x-amz-json-1.1',\n",
       "   'content-length': '0',\n",
       "   'date': 'Tue, 30 Mar 2021 05:06:15 GMT'},\n",
       "  'RetryAttempts': 0}}"
      ]
     },
     "execution_count": 16,
     "metadata": {},
     "output_type": "execute_result"
    }
   ],
   "source": [
    "sm.delete_endpoint_config(EndpointConfigName=epc_name)"
   ]
  },
  {
   "cell_type": "code",
   "execution_count": 17,
   "id": "patient-salvation",
   "metadata": {},
   "outputs": [
    {
     "data": {
      "text/plain": [
       "{'ResponseMetadata': {'RequestId': '4cc3efef-0c3d-4eb0-b767-1c70e3448eec',\n",
       "  'HTTPStatusCode': 200,\n",
       "  'HTTPHeaders': {'x-amzn-requestid': '4cc3efef-0c3d-4eb0-b767-1c70e3448eec',\n",
       "   'content-type': 'application/x-amz-json-1.1',\n",
       "   'content-length': '0',\n",
       "   'date': 'Tue, 30 Mar 2021 05:06:17 GMT'},\n",
       "  'RetryAttempts': 0}}"
      ]
     },
     "execution_count": 17,
     "metadata": {},
     "output_type": "execute_result"
    }
   ],
   "source": [
    "sm.delete_model(ModelName=model_name)"
   ]
  },
  {
   "cell_type": "code",
   "execution_count": null,
   "id": "boring-evolution",
   "metadata": {},
   "outputs": [],
   "source": []
  }
 ],
 "metadata": {
  "kernelspec": {
   "display_name": "conda_pytorch_p36",
   "language": "python",
   "name": "conda_pytorch_p36"
  },
  "language_info": {
   "codemirror_mode": {
    "name": "ipython",
    "version": 3
   },
   "file_extension": ".py",
   "mimetype": "text/x-python",
   "name": "python",
   "nbconvert_exporter": "python",
   "pygments_lexer": "ipython3",
   "version": "3.6.13"
  }
 },
 "nbformat": 4,
 "nbformat_minor": 5
}
