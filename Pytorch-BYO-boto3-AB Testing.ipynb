{
 "cells": [
  {
   "cell_type": "code",
   "execution_count": 1,
   "id": "australian-benjamin",
   "metadata": {},
   "outputs": [],
   "source": [
    "import boto3\n",
    "import sagemaker"
   ]
  },
  {
   "cell_type": "code",
   "execution_count": 2,
   "id": "convinced-handle",
   "metadata": {},
   "outputs": [
    {
     "name": "stdout",
     "output_type": "stream",
     "text": [
      "1.17.38\n",
      "2.32.0\n"
     ]
    }
   ],
   "source": [
    "print(boto3.__version__)\n",
    "print(sagemaker.__version__)"
   ]
  },
  {
   "cell_type": "code",
   "execution_count": 3,
   "id": "southern-maldives",
   "metadata": {},
   "outputs": [
    {
     "name": "stdout",
     "output_type": "stream",
     "text": [
      "sagemaker-us-east-2-805291263703\n",
      "arn:aws:iam::805291263703:role/service-role/AmazonSageMaker-ExecutionRole-20200826T145400\n"
     ]
    }
   ],
   "source": [
    "sess = sagemaker.Session()\n",
    "bucket = sess.default_bucket()\n",
    "role = sagemaker.get_execution_role()\n",
    "print(bucket)\n",
    "print(role)"
   ]
  },
  {
   "cell_type": "code",
   "execution_count": 4,
   "id": "wrong-acquisition",
   "metadata": {},
   "outputs": [],
   "source": [
    "sm = boto3.client('sagemaker')"
   ]
  },
  {
   "cell_type": "code",
   "execution_count": 5,
   "id": "armed-conservative",
   "metadata": {},
   "outputs": [],
   "source": [
    "prefix = 'pytorch-dogscats'"
   ]
  },
  {
   "cell_type": "markdown",
   "id": "foreign-message",
   "metadata": {},
   "source": [
    "# Create multi-model endpoint"
   ]
  },
  {
   "cell_type": "code",
   "execution_count": 6,
   "id": "insured-theory",
   "metadata": {},
   "outputs": [],
   "source": [
    "import time"
   ]
  },
  {
   "cell_type": "code",
   "execution_count": 67,
   "id": "young-miniature",
   "metadata": {},
   "outputs": [
    {
     "name": "stdout",
     "output_type": "stream",
     "text": [
      "pytorch-dogscats-1-2021-03-30-06-49-23\n",
      "pytorch-dogscats-2-2021-03-30-06-49-23\n"
     ]
    }
   ],
   "source": [
    "model_name_1 = prefix + '-1-' + time.strftime('%Y-%m-%d-%H-%M-%S', time.gmtime())\n",
    "model_name_2 = prefix + '-2-' + time.strftime('%Y-%m-%d-%H-%M-%S', time.gmtime())\n",
    "print(model_name_1)\n",
    "print(model_name_2)"
   ]
  },
  {
   "cell_type": "code",
   "execution_count": 68,
   "id": "unknown-worcester",
   "metadata": {},
   "outputs": [
    {
     "name": "stdout",
     "output_type": "stream",
     "text": [
      "{'ModelArn': 'arn:aws:sagemaker:us-east-2:805291263703:model/pytorch-dogscats-1-2021-03-30-06-49-23', 'ResponseMetadata': {'RequestId': '0386c177-d104-47d4-86fb-fe342cb0e3cf', 'HTTPStatusCode': 200, 'HTTPHeaders': {'x-amzn-requestid': '0386c177-d104-47d4-86fb-fe342cb0e3cf', 'content-type': 'application/x-amz-json-1.1', 'content-length': '100', 'date': 'Tue, 30 Mar 2021 06:49:46 GMT'}, 'RetryAttempts': 0}}\n"
     ]
    }
   ],
   "source": [
    "response = sm.create_model(\n",
    "    ModelName = model_name_1,\n",
    "    Containers = [\n",
    "        {\n",
    "            'Image': '763104351884.dkr.ecr.us-east-2.amazonaws.com/pytorch-inference:1.5-cpu-py3',\n",
    "            'Mode': 'SingleModel',\n",
    "            'ModelDataUrl': 's3://{}/{}/dogscats.tar.gz'.format(bucket, prefix),\n",
    "            'Environment': {\n",
    "                'SAGEMAKER_PROGRAM': 'inference.py',\n",
    "                'SAGEMAKER_SUBMIT_DIRECTORY': '/opt/ml/model/code/',\n",
    "                'SAGEMAKER_CONTAINER_LOG_LEVEL': '20',\n",
    "                'SAGEMAKER_REGION': 'us-east-2',\n",
    "                'MMS_DEFAULT_RESPONSE_TIMEOUT': '500'\n",
    "            }\n",
    "        }\n",
    "    ],\n",
    "    ExecutionRoleArn = role\n",
    ")\n",
    "print(response)"
   ]
  },
  {
   "cell_type": "code",
   "execution_count": 58,
   "id": "moved-costa",
   "metadata": {},
   "outputs": [
    {
     "name": "stdout",
     "output_type": "stream",
     "text": [
      "{'ModelArn': 'arn:aws:sagemaker:us-east-2:805291263703:model/pytorch-dogscats-2-2021-03-30-05-06-44', 'ResponseMetadata': {'RequestId': 'dcfc9e5d-3199-4aa7-8df2-a374eacc1002', 'HTTPStatusCode': 200, 'HTTPHeaders': {'x-amzn-requestid': 'dcfc9e5d-3199-4aa7-8df2-a374eacc1002', 'content-type': 'application/x-amz-json-1.1', 'content-length': '100', 'date': 'Tue, 30 Mar 2021 05:06:48 GMT'}, 'RetryAttempts': 0}}\n"
     ]
    }
   ],
   "source": [
    "response = sm.create_model(\n",
    "    ModelName = model_name_2,\n",
    "    Containers = [\n",
    "        {\n",
    "            'Image': '763104351884.dkr.ecr.us-east-2.amazonaws.com/pytorch-inference:1.8.0-cpu-py3',\n",
    "            'Mode': 'SingleModel',\n",
    "            'ModelDataUrl': 's3://{}/{}/model.tar.gz'.format(bucket, prefix),\n",
    "            'Environment': {\n",
    "                'SAGEMAKER_PROGRAM': 'inference.py',\n",
    "                'SAGEMAKER_SUBMIT_DIRECTORY': '/opt/ml/model/code/',\n",
    "                'SAGEMAKER_CONTAINER_LOG_LEVEL': '20',\n",
    "                'SAGEMAKER_REGION': 'us-east-2',\n",
    "                'MMS_DEFAULT_RESPONSE_TIMEOUT': '500'\n",
    "            }\n",
    "        }\n",
    "    ],\n",
    "    ExecutionRoleArn = role\n",
    ")\n",
    "print(response)"
   ]
  },
  {
   "cell_type": "code",
   "execution_count": 69,
   "id": "departmental-bibliography",
   "metadata": {},
   "outputs": [
    {
     "name": "stdout",
     "output_type": "stream",
     "text": [
      "Endpoint configuration name:  pytorch-dogscats-epc-2021-03-30-06-50-09\n",
      "{'EndpointConfigArn': 'arn:aws:sagemaker:us-east-2:805291263703:endpoint-config/pytorch-dogscats-epc-2021-03-30-06-50-09', 'ResponseMetadata': {'RequestId': 'a8a9cb96-b79d-4a91-bf93-b4c8d35e86ee', 'HTTPStatusCode': 200, 'HTTPHeaders': {'x-amzn-requestid': 'a8a9cb96-b79d-4a91-bf93-b4c8d35e86ee', 'content-type': 'application/x-amz-json-1.1', 'content-length': '121', 'date': 'Tue, 30 Mar 2021 06:50:08 GMT'}, 'RetryAttempts': 0}}\n"
     ]
    }
   ],
   "source": [
    "epc_name = prefix + '-epc-' + time.strftime('%Y-%m-%d-%H-%M-%S', time.gmtime())\n",
    "print('Endpoint configuration name: ', epc_name)\n",
    "\n",
    "response = sm.create_endpoint_config(\n",
    "    EndpointConfigName = epc_name,\n",
    "    ProductionVariants = [\n",
    "        {\n",
    "            'VariantName': 'version-1',\n",
    "            'ModelName': model_name_1,\n",
    "            'InitialInstanceCount': 1,\n",
    "            'InstanceType': 'ml.m5.large',\n",
    "            'InitialVariantWeight': 7\n",
    "        },\n",
    "        {\n",
    "            'VariantName': 'version-2',\n",
    "#             'ModelName': model_name_2,\n",
    "            'ModelName': model_name_1,\n",
    "            'InitialInstanceCount': 1,\n",
    "#             'InstanceType': 'ml.m5.large',\n",
    "            'InstanceType': 'ml.t2.medium',\n",
    "            'InitialVariantWeight': 3\n",
    "        }\n",
    "    ]\n",
    ")\n",
    "print(response)"
   ]
  },
  {
   "cell_type": "code",
   "execution_count": 70,
   "id": "level-simulation",
   "metadata": {},
   "outputs": [
    {
     "name": "stdout",
     "output_type": "stream",
     "text": [
      "pytorch-dogscats-ep-2021-03-30-06-50-52\n",
      "{'EndpointArn': 'arn:aws:sagemaker:us-east-2:805291263703:endpoint/pytorch-dogscats-ep-2021-03-30-06-50-52', 'ResponseMetadata': {'RequestId': '66ae162f-845a-497c-b5de-58501cb48909', 'HTTPStatusCode': 200, 'HTTPHeaders': {'x-amzn-requestid': '66ae162f-845a-497c-b5de-58501cb48909', 'content-type': 'application/x-amz-json-1.1', 'content-length': '107', 'date': 'Tue, 30 Mar 2021 06:50:51 GMT'}, 'RetryAttempts': 0}}\n"
     ]
    }
   ],
   "source": [
    "ep_name = prefix + '-ep-' + time.strftime('%Y-%m-%d-%H-%M-%S', time.gmtime())\n",
    "print(ep_name)\n",
    "\n",
    "response = sm.create_endpoint(\n",
    "    EndpointName = ep_name,\n",
    "    EndpointConfigName = epc_name\n",
    ")\n",
    "print(response)"
   ]
  },
  {
   "cell_type": "code",
   "execution_count": 71,
   "id": "gothic-oxygen",
   "metadata": {},
   "outputs": [
    {
     "data": {
      "text/plain": [
       "{'EndpointName': 'pytorch-dogscats-ep-2021-03-30-06-50-52',\n",
       " 'EndpointArn': 'arn:aws:sagemaker:us-east-2:805291263703:endpoint/pytorch-dogscats-ep-2021-03-30-06-50-52',\n",
       " 'EndpointConfigName': 'pytorch-dogscats-epc-2021-03-30-06-50-09',\n",
       " 'EndpointStatus': 'Creating',\n",
       " 'CreationTime': datetime.datetime(2021, 3, 30, 6, 50, 52, 302000, tzinfo=tzlocal()),\n",
       " 'LastModifiedTime': datetime.datetime(2021, 3, 30, 6, 50, 52, 302000, tzinfo=tzlocal()),\n",
       " 'ResponseMetadata': {'RequestId': '1ec3947f-b79f-4de3-9518-81265b5cfcee',\n",
       "  'HTTPStatusCode': 200,\n",
       "  'HTTPHeaders': {'x-amzn-requestid': '1ec3947f-b79f-4de3-9518-81265b5cfcee',\n",
       "   'content-type': 'application/x-amz-json-1.1',\n",
       "   'content-length': '324',\n",
       "   'date': 'Tue, 30 Mar 2021 06:50:53 GMT'},\n",
       "  'RetryAttempts': 0}}"
      ]
     },
     "execution_count": 71,
     "metadata": {},
     "output_type": "execute_result"
    }
   ],
   "source": [
    "sm.describe_endpoint(EndpointName=ep_name)"
   ]
  },
  {
   "cell_type": "code",
   "execution_count": 72,
   "id": "physical-pointer",
   "metadata": {},
   "outputs": [],
   "source": [
    "waiter = sm.get_waiter('endpoint_in_service')\n",
    "waiter.wait(EndpointName=ep_name)"
   ]
  },
  {
   "cell_type": "markdown",
   "id": "enabling-skiing",
   "metadata": {},
   "source": [
    "# Update endpoint weight and capacity"
   ]
  },
  {
   "cell_type": "code",
   "execution_count": 27,
   "id": "thrown-bracket",
   "metadata": {},
   "outputs": [
    {
     "name": "stdout",
     "output_type": "stream",
     "text": [
      "{'EndpointArn': 'arn:aws:sagemaker:us-east-2:805291263703:endpoint/pytorch-dogscats-ep-2021-03-30-01-56-36', 'ResponseMetadata': {'RequestId': '82f19bae-2a6b-4ead-97ce-1622e5aa4189', 'HTTPStatusCode': 200, 'HTTPHeaders': {'x-amzn-requestid': '82f19bae-2a6b-4ead-97ce-1622e5aa4189', 'content-type': 'application/x-amz-json-1.1', 'content-length': '107', 'date': 'Tue, 30 Mar 2021 02:24:20 GMT'}, 'RetryAttempts': 0}}\n"
     ]
    }
   ],
   "source": [
    "response = sm.update_endpoint_weights_and_capacities(\n",
    "    EndpointName = ep_name,\n",
    "    DesiredWeightsAndCapacities=[\n",
    "        {\n",
    "            'VariantName': 'version-1',\n",
    "            'DesiredWeight': 5\n",
    "        },\n",
    "        {\n",
    "            'VariantName': 'version-2',\n",
    "            'DesiredWeight': 5\n",
    "        }\n",
    "    ]\n",
    ")\n",
    "print(response)"
   ]
  },
  {
   "cell_type": "markdown",
   "id": "requested-stone",
   "metadata": {},
   "source": [
    "# Inference"
   ]
  },
  {
   "cell_type": "code",
   "execution_count": 21,
   "id": "effective-accent",
   "metadata": {},
   "outputs": [],
   "source": [
    "import os\n",
    "import cv2\n",
    "import torch\n",
    "import matplotlib.pyplot as plt\n",
    "import numpy as np\n",
    "from io import BytesIO"
   ]
  },
  {
   "cell_type": "code",
   "execution_count": 16,
   "id": "consistent-joyce",
   "metadata": {},
   "outputs": [],
   "source": [
    "TEST_DIR = './test1'"
   ]
  },
  {
   "cell_type": "code",
   "execution_count": 17,
   "id": "grand-worthy",
   "metadata": {},
   "outputs": [],
   "source": [
    "test_imgs = os.listdir(TEST_DIR)"
   ]
  },
  {
   "cell_type": "code",
   "execution_count": 22,
   "id": "imperial-protest",
   "metadata": {},
   "outputs": [],
   "source": [
    "smrt = boto3.client('runtime.sagemaker')"
   ]
  },
  {
   "cell_type": "code",
   "execution_count": 73,
   "id": "operational-interstate",
   "metadata": {},
   "outputs": [],
   "source": [
    "for i in range(1000):\n",
    "    im = cv2.imread(os.path.join(TEST_DIR, test_imgs[0]))\n",
    "    im = cv2.cvtColor(im, cv2.COLOR_BGR2RGB)\n",
    "    im = cv2.resize(im, (224,224))\n",
    "    tensor_x = np.expand_dims(im, axis=0)\n",
    "    tensor_x = tensor_x.transpose((0,3,1,2))\n",
    "    buffer = BytesIO()\n",
    "    np.save(buffer, tensor_x)\n",
    "\n",
    "    response = smrt.invoke_endpoint(\n",
    "        EndpointName=ep_name,\n",
    "        Body=buffer.getvalue(),\n",
    "        ContentType='application/x-npy'\n",
    "    )\n",
    "#     print(response['InvokedProductionVariant'])\n",
    "#     print(response['Body'].read())"
   ]
  },
  {
   "cell_type": "markdown",
   "id": "white-speaking",
   "metadata": {},
   "source": [
    "# Delete endpoint, endpoint configuration and model"
   ]
  },
  {
   "cell_type": "code",
   "execution_count": 74,
   "id": "latter-excess",
   "metadata": {},
   "outputs": [
    {
     "data": {
      "text/plain": [
       "{'ResponseMetadata': {'RequestId': 'd0a02d2c-bf20-40fe-9e86-cd2b965978dd',\n",
       "  'HTTPStatusCode': 200,\n",
       "  'HTTPHeaders': {'x-amzn-requestid': 'd0a02d2c-bf20-40fe-9e86-cd2b965978dd',\n",
       "   'content-type': 'application/x-amz-json-1.1',\n",
       "   'content-length': '0',\n",
       "   'date': 'Tue, 30 Mar 2021 07:08:05 GMT'},\n",
       "  'RetryAttempts': 0}}"
      ]
     },
     "execution_count": 74,
     "metadata": {},
     "output_type": "execute_result"
    }
   ],
   "source": [
    "sm.delete_endpoint(EndpointName=ep_name)"
   ]
  },
  {
   "cell_type": "code",
   "execution_count": 75,
   "id": "powerful-canadian",
   "metadata": {},
   "outputs": [
    {
     "data": {
      "text/plain": [
       "{'ResponseMetadata': {'RequestId': '390bbdcf-154c-4929-8c13-df45469232ef',\n",
       "  'HTTPStatusCode': 200,\n",
       "  'HTTPHeaders': {'x-amzn-requestid': '390bbdcf-154c-4929-8c13-df45469232ef',\n",
       "   'content-type': 'application/x-amz-json-1.1',\n",
       "   'content-length': '0',\n",
       "   'date': 'Tue, 30 Mar 2021 07:08:07 GMT'},\n",
       "  'RetryAttempts': 0}}"
      ]
     },
     "execution_count": 75,
     "metadata": {},
     "output_type": "execute_result"
    }
   ],
   "source": [
    "sm.delete_endpoint_config(EndpointConfigName=epc_name)"
   ]
  },
  {
   "cell_type": "code",
   "execution_count": 76,
   "id": "exact-longer",
   "metadata": {},
   "outputs": [
    {
     "data": {
      "text/plain": [
       "{'ResponseMetadata': {'RequestId': '3501f012-f1a9-4943-80c6-779bc9244e92',\n",
       "  'HTTPStatusCode': 200,\n",
       "  'HTTPHeaders': {'x-amzn-requestid': '3501f012-f1a9-4943-80c6-779bc9244e92',\n",
       "   'content-type': 'application/x-amz-json-1.1',\n",
       "   'content-length': '0',\n",
       "   'date': 'Tue, 30 Mar 2021 07:08:14 GMT'},\n",
       "  'RetryAttempts': 0}}"
      ]
     },
     "execution_count": 76,
     "metadata": {},
     "output_type": "execute_result"
    }
   ],
   "source": [
    "sm.delete_model(ModelName=model_name_1)"
   ]
  },
  {
   "cell_type": "code",
   "execution_count": null,
   "id": "integral-three",
   "metadata": {},
   "outputs": [],
   "source": [
    "sm.delete_model(ModelName=model_name_2)"
   ]
  },
  {
   "cell_type": "code",
   "execution_count": null,
   "id": "educational-exception",
   "metadata": {},
   "outputs": [],
   "source": []
  }
 ],
 "metadata": {
  "kernelspec": {
   "display_name": "conda_pytorch_p36",
   "language": "python",
   "name": "conda_pytorch_p36"
  },
  "language_info": {
   "codemirror_mode": {
    "name": "ipython",
    "version": 3
   },
   "file_extension": ".py",
   "mimetype": "text/x-python",
   "name": "python",
   "nbconvert_exporter": "python",
   "pygments_lexer": "ipython3",
   "version": "3.6.13"
  }
 },
 "nbformat": 4,
 "nbformat_minor": 5
}
